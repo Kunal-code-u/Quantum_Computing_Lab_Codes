{
  "nbformat": 4,
  "nbformat_minor": 0,
  "metadata": {
    "colab": {
      "provenance": []
    },
    "kernelspec": {
      "name": "python3",
      "display_name": "Python 3"
    },
    "language_info": {
      "name": "python"
    }
  },
  "cells": [
    {
      "cell_type": "code",
      "source": [
        "! pip install qiskit\n",
        "! pip install qiskit_aer"
      ],
      "metadata": {
        "id": "IuMbF89LS7zG"
      },
      "execution_count": null,
      "outputs": []
    },
    {
      "cell_type": "code",
      "source": [
        "from qiskit import QuantumCircuit\n",
        "from qiskit_aer import Aer\n",
        "from qiskit.visualization import plot_histogram\n",
        "from numpy import random\n",
        "import numpy as np"
      ],
      "metadata": {
        "id": "9bz3jr2ABNvf"
      },
      "execution_count": 242,
      "outputs": []
    },
    {
      "cell_type": "code",
      "source": [
        "def basis(index):\n",
        "  basis=[]\n",
        "  for i in index:\n",
        "    if i == 0:\n",
        "      basis.append('Z')\n",
        "    else:\n",
        "      basis.append('X')\n",
        "  return basis"
      ],
      "metadata": {
        "id": "HIB_IZmjCloa"
      },
      "execution_count": 243,
      "outputs": []
    },
    {
      "cell_type": "code",
      "source": [
        "def prep_qubit(bits,basises,n):\n",
        "  qc = QuantumCircuit(n,n)\n",
        "  for ind , (bit , basis) in enumerate(zip(bits,basises)):\n",
        "    if basis == 'Z':\n",
        "      if bit == 0:\n",
        "        pass\n",
        "      elif bit == 1:\n",
        "        qc.x(ind)\n",
        "\n",
        "    elif basis == 'X':\n",
        "      if bit == 0:\n",
        "        qc.h(ind)\n",
        "      elif bit == 1:\n",
        "        qc.h(ind)\n",
        "        qc.z(ind)\n",
        "\n",
        "  return qc"
      ],
      "metadata": {
        "id": "PmAq8XomG9T4"
      },
      "execution_count": 244,
      "outputs": []
    },
    {
      "cell_type": "code",
      "source": [
        "def measure_qubit(o_basis , qc):\n",
        "  for ind , basis in enumerate(o_basis):\n",
        "    if basis == 'Z':\n",
        "      qc.measure(ind,ind)\n",
        "    elif basis == 'X':\n",
        "      qc.h(ind)\n",
        "      qc.measure(ind,ind)\n",
        "\n",
        "  sim = Aer.get_backend('aer_simulator')\n",
        "  result = sim.run(qc,shots=1).result()\n",
        "  results = result.get_counts().keys()\n",
        "  return list(results)[0][::-1]  # because qiskt writes msb first"
      ],
      "metadata": {
        "id": "Uusce9_3OrqG"
      },
      "execution_count": 245,
      "outputs": []
    },
    {
      "cell_type": "markdown",
      "source": [
        "Alice"
      ],
      "metadata": {
        "id": "wTaFNtB7yV80"
      }
    },
    {
      "cell_type": "code",
      "source": [
        "def bb84_sender(n):\n",
        "  alice_bits = random.randint(2,size=n)\n",
        "  alice_basis_ind = random.randint(2,size=n)\n",
        "\n",
        "  alice_basis =  basis(alice_basis_ind)\n",
        "  ciper_qubits = prep_qubit(alice_bits,alice_basis,n)\n",
        "\n",
        "  return ciper_qubits , alice_basis , alice_bits"
      ],
      "metadata": {
        "id": "taaO7FtvCVGu"
      },
      "execution_count": 246,
      "outputs": []
    },
    {
      "cell_type": "code",
      "source": [
        "ciper_qubits ,alice_basis , alice_bits= bb84_sender(12)"
      ],
      "metadata": {
        "id": "tadOcilZfm_d"
      },
      "execution_count": 247,
      "outputs": []
    },
    {
      "cell_type": "markdown",
      "source": [
        "Eves intercept (optional)"
      ],
      "metadata": {
        "id": "z-GbT6hVwupm"
      }
    },
    {
      "cell_type": "code",
      "source": [
        "def bb84_eve(n):\n",
        "  eve_basis_ind = random.randint(2,size=n)\n",
        "  eve_basis = basis(eve_basis_ind)\n",
        "  data = measure_qubit(eve_basis,ciper_qubits)\n",
        "  return data , eve_basis"
      ],
      "metadata": {
        "id": "rEcsEJJdwRrj"
      },
      "execution_count": 248,
      "outputs": []
    },
    {
      "cell_type": "code",
      "source": [
        "#uncomment to include eve intercept\n",
        "\n",
        "# eve_bits , eve_basis = bb84_eve(12)\n",
        "# # making eve_bits string to array of int\n",
        "# eve_recieved_bits = []\n",
        "# for d in eve_bits:\n",
        "#   eve_recieved_bits.append(int(d))\n",
        "# eve_recieved_bits = np.array(eve_recieved_bits)\n",
        "\n",
        "# ciper_qubits = prep_qubit(eve_recieved_bits,eve_basis,12)"
      ],
      "metadata": {
        "id": "yL7-QQ7kws-o"
      },
      "execution_count": 249,
      "outputs": []
    },
    {
      "cell_type": "markdown",
      "source": [
        "Bob"
      ],
      "metadata": {
        "id": "0Yj4y5yXwyYZ"
      }
    },
    {
      "cell_type": "code",
      "source": [
        "def bb84_reciever(n):\n",
        "  bob_basis_ind = random.randint(2,size=n)\n",
        "  bob_basis = basis(bob_basis_ind)\n",
        "  data = measure_qubit(bob_basis,ciper_qubits)\n",
        "  return data , bob_basis"
      ],
      "metadata": {
        "id": "ruQeaOm7LG0a"
      },
      "execution_count": 250,
      "outputs": []
    },
    {
      "cell_type": "code",
      "source": [
        "data , bob_basis = bb84_reciever(12)"
      ],
      "metadata": {
        "id": "xOBvmS3leXLG"
      },
      "execution_count": 251,
      "outputs": []
    },
    {
      "cell_type": "code",
      "source": [
        "# making data string to array of int\n",
        "bob_recieved_bits = []\n",
        "for d in data:\n",
        "  bob_recieved_bits.append(int(d))\n",
        "bob_recieved_bits = np.array(bob_recieved_bits)"
      ],
      "metadata": {
        "id": "_N_NnE61TZ9V"
      },
      "execution_count": 252,
      "outputs": []
    },
    {
      "cell_type": "markdown",
      "source": [
        "Comparison and decoding"
      ],
      "metadata": {
        "id": "a6MZXpZxyZUG"
      }
    },
    {
      "cell_type": "code",
      "source": [
        "alice_bits"
      ],
      "metadata": {
        "colab": {
          "base_uri": "https://localhost:8080/"
        },
        "id": "IOEJSaaXg3rq",
        "outputId": "66a266a9-f249-42fd-99f5-e150ccf82da7"
      },
      "execution_count": 253,
      "outputs": [
        {
          "output_type": "execute_result",
          "data": {
            "text/plain": [
              "array([1, 0, 0, 1, 1, 1, 0, 1, 0, 1, 0, 0])"
            ]
          },
          "metadata": {},
          "execution_count": 253
        }
      ]
    },
    {
      "cell_type": "code",
      "source": [
        "bob_recieved_bits"
      ],
      "metadata": {
        "colab": {
          "base_uri": "https://localhost:8080/"
        },
        "id": "LdPKULzRiOUf",
        "outputId": "ff1ee5cf-3a52-4e26-bf18-df98f6e9b4fd"
      },
      "execution_count": 254,
      "outputs": [
        {
          "output_type": "execute_result",
          "data": {
            "text/plain": [
              "array([1, 1, 0, 0, 1, 1, 1, 1, 0, 1, 0, 0])"
            ]
          },
          "metadata": {},
          "execution_count": 254
        }
      ]
    },
    {
      "cell_type": "code",
      "source": [
        "alice_basis = np.array(alice_basis)\n",
        "bob_basis = np.array(bob_basis)"
      ],
      "metadata": {
        "id": "z19DyjqHmoOg"
      },
      "execution_count": 255,
      "outputs": []
    },
    {
      "cell_type": "code",
      "source": [
        "no = []\n",
        "for ind ,(al,bo) in enumerate(zip(alice_basis,bob_basis)):\n",
        "  if al == bo:\n",
        "    no.append(ind)"
      ],
      "metadata": {
        "id": "z6M8jMJGmxOh"
      },
      "execution_count": 256,
      "outputs": []
    },
    {
      "cell_type": "code",
      "source": [
        "for i in no:\n",
        "  print(alice_bits[i] , bob_recieved_bits[i])"
      ],
      "metadata": {
        "colab": {
          "base_uri": "https://localhost:8080/"
        },
        "id": "wveWzqBIne64",
        "outputId": "d37dca24-b9bf-487c-a96c-efd008c1ba03"
      },
      "execution_count": 257,
      "outputs": [
        {
          "output_type": "stream",
          "name": "stdout",
          "text": [
            "0 1\n",
            "0 0\n",
            "0 1\n",
            "0 0\n",
            "1 1\n",
            "0 0\n",
            "0 0\n"
          ]
        }
      ]
    }
  ]
}