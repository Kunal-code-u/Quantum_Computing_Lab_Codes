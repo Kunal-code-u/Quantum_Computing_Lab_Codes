{
  "nbformat": 4,
  "nbformat_minor": 0,
  "metadata": {
    "colab": {
      "provenance": []
    },
    "kernelspec": {
      "name": "python3",
      "display_name": "Python 3"
    },
    "language_info": {
      "name": "python"
    }
  },
  "cells": [
    {
      "cell_type": "markdown",
      "source": [
        "Q1) Entangled State"
      ],
      "metadata": {
        "id": "0Wlm0l4j7idw"
      }
    },
    {
      "cell_type": "code",
      "execution_count": 17,
      "metadata": {
        "colab": {
          "base_uri": "https://localhost:8080/"
        },
        "collapsed": true,
        "id": "thKbIiWH3ETq",
        "outputId": "036936d5-bf1f-4b95-f10e-ae7e80f08c00"
      },
      "outputs": [
        {
          "output_type": "stream",
          "name": "stdout",
          "text": [
            "Requirement already satisfied: qiskit in /usr/local/lib/python3.11/dist-packages (2.0.0)\n",
            "Requirement already satisfied: rustworkx>=0.15.0 in /usr/local/lib/python3.11/dist-packages (from qiskit) (0.16.0)\n",
            "Requirement already satisfied: numpy<3,>=1.17 in /usr/local/lib/python3.11/dist-packages (from qiskit) (2.0.2)\n",
            "Requirement already satisfied: scipy>=1.5 in /usr/local/lib/python3.11/dist-packages (from qiskit) (1.15.2)\n",
            "Requirement already satisfied: sympy>=1.3 in /usr/local/lib/python3.11/dist-packages (from qiskit) (1.13.1)\n",
            "Requirement already satisfied: dill>=0.3 in /usr/local/lib/python3.11/dist-packages (from qiskit) (0.4.0)\n",
            "Requirement already satisfied: python-dateutil>=2.8.0 in /usr/local/lib/python3.11/dist-packages (from qiskit) (2.9.0.post0)\n",
            "Requirement already satisfied: stevedore>=3.0.0 in /usr/local/lib/python3.11/dist-packages (from qiskit) (5.4.1)\n",
            "Requirement already satisfied: typing-extensions in /usr/local/lib/python3.11/dist-packages (from qiskit) (4.13.2)\n",
            "Requirement already satisfied: symengine<0.14,>=0.11 in /usr/local/lib/python3.11/dist-packages (from qiskit) (0.13.0)\n",
            "Requirement already satisfied: six>=1.5 in /usr/local/lib/python3.11/dist-packages (from python-dateutil>=2.8.0->qiskit) (1.17.0)\n",
            "Requirement already satisfied: pbr>=2.0.0 in /usr/local/lib/python3.11/dist-packages (from stevedore>=3.0.0->qiskit) (6.1.1)\n",
            "Requirement already satisfied: mpmath<1.4,>=1.1.0 in /usr/local/lib/python3.11/dist-packages (from sympy>=1.3->qiskit) (1.3.0)\n",
            "Requirement already satisfied: setuptools in /usr/local/lib/python3.11/dist-packages (from pbr>=2.0.0->stevedore>=3.0.0->qiskit) (75.2.0)\n",
            "Requirement already satisfied: qiskit_aer in /usr/local/lib/python3.11/dist-packages (0.17.0)\n",
            "Requirement already satisfied: qiskit>=1.1.0 in /usr/local/lib/python3.11/dist-packages (from qiskit_aer) (2.0.0)\n",
            "Requirement already satisfied: numpy>=1.16.3 in /usr/local/lib/python3.11/dist-packages (from qiskit_aer) (2.0.2)\n",
            "Requirement already satisfied: scipy>=1.0 in /usr/local/lib/python3.11/dist-packages (from qiskit_aer) (1.15.2)\n",
            "Requirement already satisfied: psutil>=5 in /usr/local/lib/python3.11/dist-packages (from qiskit_aer) (5.9.5)\n",
            "Requirement already satisfied: rustworkx>=0.15.0 in /usr/local/lib/python3.11/dist-packages (from qiskit>=1.1.0->qiskit_aer) (0.16.0)\n",
            "Requirement already satisfied: sympy>=1.3 in /usr/local/lib/python3.11/dist-packages (from qiskit>=1.1.0->qiskit_aer) (1.13.1)\n",
            "Requirement already satisfied: dill>=0.3 in /usr/local/lib/python3.11/dist-packages (from qiskit>=1.1.0->qiskit_aer) (0.4.0)\n",
            "Requirement already satisfied: python-dateutil>=2.8.0 in /usr/local/lib/python3.11/dist-packages (from qiskit>=1.1.0->qiskit_aer) (2.9.0.post0)\n",
            "Requirement already satisfied: stevedore>=3.0.0 in /usr/local/lib/python3.11/dist-packages (from qiskit>=1.1.0->qiskit_aer) (5.4.1)\n",
            "Requirement already satisfied: typing-extensions in /usr/local/lib/python3.11/dist-packages (from qiskit>=1.1.0->qiskit_aer) (4.13.2)\n",
            "Requirement already satisfied: symengine<0.14,>=0.11 in /usr/local/lib/python3.11/dist-packages (from qiskit>=1.1.0->qiskit_aer) (0.13.0)\n",
            "Requirement already satisfied: six>=1.5 in /usr/local/lib/python3.11/dist-packages (from python-dateutil>=2.8.0->qiskit>=1.1.0->qiskit_aer) (1.17.0)\n",
            "Requirement already satisfied: pbr>=2.0.0 in /usr/local/lib/python3.11/dist-packages (from stevedore>=3.0.0->qiskit>=1.1.0->qiskit_aer) (6.1.1)\n",
            "Requirement already satisfied: mpmath<1.4,>=1.1.0 in /usr/local/lib/python3.11/dist-packages (from sympy>=1.3->qiskit>=1.1.0->qiskit_aer) (1.3.0)\n",
            "Requirement already satisfied: setuptools in /usr/local/lib/python3.11/dist-packages (from pbr>=2.0.0->stevedore>=3.0.0->qiskit>=1.1.0->qiskit_aer) (75.2.0)\n"
          ]
        }
      ],
      "source": [
        "!pip install qiskit\n",
        "!pip install qiskit_aer\n",
        "from qiskit.quantum_info import Statevector,partial_trace\n"
      ]
    },
    {
      "cell_type": "code",
      "source": [
        "from qiskit import QuantumCircuit\n",
        "from qiskit_aer import Aer\n",
        "from qiskit.visualization import plot_histogram"
      ],
      "metadata": {
        "id": "WopdCA2A3cyI"
      },
      "execution_count": 18,
      "outputs": []
    },
    {
      "cell_type": "code",
      "source": [
        "def create_entangled_pair():\n",
        "  qc = QuantumCircuit(3, 1)\n",
        "  qc.h(0)\n",
        "  qc.x([1, 2])\n",
        "  qc.cx(0, 1)\n",
        "  qc.cx(1, 2)\n",
        "  return qc\n"
      ],
      "metadata": {
        "id": "t1Wr5rlb3xnZ"
      },
      "execution_count": 19,
      "outputs": []
    },
    {
      "cell_type": "code",
      "source": [
        "qc = create_entangled_pair()\n",
        "qc.draw()\n"
      ],
      "metadata": {
        "colab": {
          "base_uri": "https://localhost:8080/",
          "height": 156
        },
        "id": "F_8AOMmH3cuw",
        "outputId": "6331d9b3-8974-4802-e935-7a01e9619565"
      },
      "execution_count": 20,
      "outputs": [
        {
          "output_type": "execute_result",
          "data": {
            "text/plain": [
              "     ┌───┐          \n",
              "q_0: ┤ H ├──■───────\n",
              "     ├───┤┌─┴─┐     \n",
              "q_1: ┤ X ├┤ X ├──■──\n",
              "     ├───┤└───┘┌─┴─┐\n",
              "q_2: ┤ X ├─────┤ X ├\n",
              "     └───┘     └───┘\n",
              "c: 1/═══════════════\n",
              "                    "
            ],
            "text/html": [
              "<pre style=\"word-wrap: normal;white-space: pre;background: #fff0;line-height: 1.1;font-family: &quot;Courier New&quot;,Courier,monospace\">     ┌───┐          \n",
              "q_0: ┤ H ├──■───────\n",
              "     ├───┤┌─┴─┐     \n",
              "q_1: ┤ X ├┤ X ├──■──\n",
              "     ├───┤└───┘┌─┴─┐\n",
              "q_2: ┤ X ├─────┤ X ├\n",
              "     └───┘     └───┘\n",
              "c: 1/═══════════════\n",
              "                    </pre>"
            ]
          },
          "metadata": {},
          "execution_count": 20
        }
      ]
    },
    {
      "cell_type": "code",
      "source": [
        "state = Statevector(qc)\n",
        "state.draw('latex')"
      ],
      "metadata": {
        "colab": {
          "base_uri": "https://localhost:8080/",
          "height": 40
        },
        "id": "g2WTXUus3csN",
        "outputId": "1061d77f-5190-47db-c7e8-ae7528386f12"
      },
      "execution_count": 21,
      "outputs": [
        {
          "output_type": "execute_result",
          "data": {
            "text/plain": [
              "<IPython.core.display.Latex object>"
            ],
            "text/latex": "$$\\frac{\\sqrt{2}}{2} |010\\rangle+\\frac{\\sqrt{2}}{2} |101\\rangle$$"
          },
          "metadata": {},
          "execution_count": 21
        }
      ]
    },
    {
      "cell_type": "markdown",
      "source": [
        "Q2) Deutsch-Josza"
      ],
      "metadata": {
        "id": "X2t86YzW7eoK"
      }
    },
    {
      "cell_type": "code",
      "source": [
        "def constant_oracle(n):\n",
        "    oracle = QuantumCircuit(n + 1)\n",
        "    return oracle\n",
        "\n",
        "def balanced_oracle(n):\n",
        "    oracle = QuantumCircuit(n + 1)\n",
        "    for i in range(n):\n",
        "        oracle.cx(i, n)\n",
        "    return oracle"
      ],
      "metadata": {
        "id": "pOWlOnBn7c2O"
      },
      "execution_count": 34,
      "outputs": []
    },
    {
      "cell_type": "code",
      "source": [
        "from qiskit import QuantumCircuit\n",
        "from qiskit_aer import Aer\n",
        "from qiskit.visualization import plot_histogram\n",
        "import matplotlib.pyplot as plt\n",
        "\n",
        "def deutsch_jozsa(f_oracle, n):\n",
        "    qc = QuantumCircuit(n + 1, n)\n",
        "\n",
        "    qc.x(n)\n",
        "    qc.h(n)\n",
        "\n",
        "    for i in range(n):\n",
        "        qc.h(i)\n",
        "\n",
        "    qc.barrier()\n",
        "\n",
        "    qc = qc.compose(f_oracle, qubits=range(n + 1))\n",
        "\n",
        "    qc.barrier()\n",
        "\n",
        "    for i in range(n):\n",
        "        qc.h(i)\n",
        "\n",
        "    return qc"
      ],
      "metadata": {
        "id": "Dy--S-ty7c4t"
      },
      "execution_count": 35,
      "outputs": []
    },
    {
      "cell_type": "code",
      "source": [
        "n = 2\n",
        "oracle = constant_oracle(n)"
      ],
      "metadata": {
        "id": "oouRUK0e7c7c"
      },
      "execution_count": 36,
      "outputs": []
    },
    {
      "cell_type": "code",
      "source": [
        "dj_circuit = deutsch_jozsa(oracle, n)\n",
        "dj_circuit.draw()"
      ],
      "metadata": {
        "colab": {
          "base_uri": "https://localhost:8080/",
          "height": 156
        },
        "id": "rug8uU7X7c9x",
        "outputId": "a14af7cf-94a8-41fc-8614-71d28db0da72"
      },
      "execution_count": 37,
      "outputs": [
        {
          "output_type": "execute_result",
          "data": {
            "text/plain": [
              "     ┌───┐      ░  ░ ┌───┐\n",
              "q_0: ┤ H ├──────░──░─┤ H ├\n",
              "     ├───┤      ░  ░ ├───┤\n",
              "q_1: ┤ H ├──────░──░─┤ H ├\n",
              "     ├───┤┌───┐ ░  ░ └───┘\n",
              "q_2: ┤ X ├┤ H ├─░──░──────\n",
              "     └───┘└───┘ ░  ░      \n",
              "c: 2/═════════════════════\n",
              "                          "
            ],
            "text/html": [
              "<pre style=\"word-wrap: normal;white-space: pre;background: #fff0;line-height: 1.1;font-family: &quot;Courier New&quot;,Courier,monospace\">     ┌───┐      ░  ░ ┌───┐\n",
              "q_0: ┤ H ├──────░──░─┤ H ├\n",
              "     ├───┤      ░  ░ ├───┤\n",
              "q_1: ┤ H ├──────░──░─┤ H ├\n",
              "     ├───┤┌───┐ ░  ░ └───┘\n",
              "q_2: ┤ X ├┤ H ├─░──░──────\n",
              "     └───┘└───┘ ░  ░      \n",
              "c: 2/═════════════════════\n",
              "                          </pre>"
            ]
          },
          "metadata": {},
          "execution_count": 37
        }
      ]
    }
  ]
}