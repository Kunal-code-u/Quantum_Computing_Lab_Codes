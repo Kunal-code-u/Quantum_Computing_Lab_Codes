{
  "nbformat": 4,
  "nbformat_minor": 0,
  "metadata": {
    "colab": {
      "provenance": []
    },
    "kernelspec": {
      "name": "python3",
      "display_name": "Python 3"
    },
    "language_info": {
      "name": "python"
    }
  },
  "cells": [
    {
      "cell_type": "code",
      "source": [
        "!pip install qiskit\n",
        "!pip install qiskit_aer"
      ],
      "metadata": {
        "id": "hZiagL2i_rD3"
      },
      "execution_count": null,
      "outputs": []
    },
    {
      "cell_type": "code",
      "execution_count": null,
      "metadata": {
        "id": "1R_GhTSr1SpV"
      },
      "outputs": [],
      "source": [
        "from qiskit import QuantumCircuit\n",
        "from qiskit.quantum_info import Statevector,partial_trace\n",
        "from qiskit_aer import Aer\n",
        "from math import sqrt\n",
        "from qiskit.visualization import plot_histogram"
      ]
    },
    {
      "cell_type": "markdown",
      "source": [
        "Entangled state"
      ],
      "metadata": {
        "id": "swYyvpzcAgCx"
      }
    },
    {
      "cell_type": "code",
      "source": [
        "qc = QuantumCircuit(3,2)\n",
        "\n",
        "# state that want to teleport\n",
        "state = [1/sqrt(2),1/sqrt(2)]\n",
        "qc.initialize(state,0)\n",
        "\n",
        "qc.h(1)\n",
        "qc.cx(1,2)\n",
        "\n",
        "qc.draw()"
      ],
      "metadata": {
        "colab": {
          "base_uri": "https://localhost:8080/",
          "height": 156
        },
        "id": "mqGHPHZqAemL",
        "outputId": "b7edd295-7a80-4753-90db-20741fe9795b"
      },
      "execution_count": null,
      "outputs": [
        {
          "output_type": "execute_result",
          "data": {
            "text/plain": [
              "     ┌─────────────────────────────┐     \n",
              "q_0: ┤ Initialize(0.70711,0.70711) ├─────\n",
              "     └────────────┬───┬────────────┘     \n",
              "q_1: ─────────────┤ H ├───────────────■──\n",
              "                  └───┘             ┌─┴─┐\n",
              "q_2: ───────────────────────────────┤ X ├\n",
              "                                    └───┘\n",
              "c: 2/════════════════════════════════════\n",
              "                                         "
            ],
            "text/html": [
              "<pre style=\"word-wrap: normal;white-space: pre;background: #fff0;line-height: 1.1;font-family: &quot;Courier New&quot;,Courier,monospace\">     ┌─────────────────────────────┐     \n",
              "q_0: ┤ Initialize(0.70711,0.70711) ├─────\n",
              "     └────────────┬───┬────────────┘     \n",
              "q_1: ─────────────┤ H ├───────────────■──\n",
              "                  └───┘             ┌─┴─┐\n",
              "q_2: ───────────────────────────────┤ X ├\n",
              "                                    └───┘\n",
              "c: 2/════════════════════════════════════\n",
              "                                         </pre>"
            ]
          },
          "metadata": {},
          "execution_count": 35
        }
      ]
    },
    {
      "cell_type": "code",
      "source": [
        "state = Statevector(qc)\n",
        "state.draw('latex') # MSB is ist"
      ],
      "metadata": {
        "colab": {
          "base_uri": "https://localhost:8080/",
          "height": 38
        },
        "id": "GEmFfV65BIzX",
        "outputId": "44c17a15-1bde-49bd-e6bb-3c564300b79a"
      },
      "execution_count": null,
      "outputs": [
        {
          "output_type": "execute_result",
          "data": {
            "text/plain": [
              "<IPython.core.display.Latex object>"
            ],
            "text/latex": "$$\\frac{1}{2} |000\\rangle+\\frac{1}{2} |001\\rangle+\\frac{1}{2} |110\\rangle+\\frac{1}{2} |111\\rangle$$"
          },
          "metadata": {},
          "execution_count": 36
        }
      ]
    },
    {
      "cell_type": "markdown",
      "source": [
        "Alice"
      ],
      "metadata": {
        "id": "7qxsVOUVAc5T"
      }
    },
    {
      "cell_type": "code",
      "source": [
        "qc.cx(0,1)\n",
        "qc.h(0)"
      ],
      "metadata": {
        "colab": {
          "base_uri": "https://localhost:8080/"
        },
        "id": "aEksosD2_y5L",
        "outputId": "74a6a227-b830-4946-d237-cb17021595eb"
      },
      "execution_count": null,
      "outputs": [
        {
          "output_type": "execute_result",
          "data": {
            "text/plain": [
              "<qiskit.circuit.instructionset.InstructionSet at 0x7fb9cee57070>"
            ]
          },
          "metadata": {},
          "execution_count": 37
        }
      ]
    },
    {
      "cell_type": "code",
      "source": [
        "qc.measure(0,0)\n",
        "qc.measure(1,1)"
      ],
      "metadata": {
        "colab": {
          "base_uri": "https://localhost:8080/"
        },
        "id": "wHNoSGWaDJXZ",
        "outputId": "6723a52b-51da-4efa-da34-31e41c7ab65d"
      },
      "execution_count": null,
      "outputs": [
        {
          "output_type": "execute_result",
          "data": {
            "text/plain": [
              "<qiskit.circuit.instructionset.InstructionSet at 0x7fb9cee55420>"
            ]
          },
          "metadata": {},
          "execution_count": 38
        }
      ]
    },
    {
      "cell_type": "code",
      "source": [
        "backend = Aer.get_backend('aer_simulator')\n",
        "result = backend.run(qc,shots=1).result()\n",
        "measurment_result = list(result.get_counts().keys())[0][::-1] # reversing for readability\n",
        "measurment_result"
      ],
      "metadata": {
        "colab": {
          "base_uri": "https://localhost:8080/",
          "height": 35
        },
        "id": "2b6OcUwVDVEU",
        "outputId": "934ef3b4-2848-45fe-f544-aa7bb8cd1956"
      },
      "execution_count": null,
      "outputs": [
        {
          "output_type": "execute_result",
          "data": {
            "text/plain": [
              "'10'"
            ],
            "application/vnd.google.colaboratory.intrinsic+json": {
              "type": "string"
            }
          },
          "metadata": {},
          "execution_count": 39
        }
      ]
    },
    {
      "cell_type": "markdown",
      "source": [
        "BOB"
      ],
      "metadata": {
        "id": "i8wm-6XrEMup"
      }
    },
    {
      "cell_type": "code",
      "source": [
        "if measurment_result == '11':\n",
        "  qc.x(2)\n",
        "  qc.z(2)\n",
        "elif measurment_result == '10':\n",
        "  qc.z(2)\n",
        "elif measurment_result == '01':\n",
        "  qc.x(2)"
      ],
      "metadata": {
        "id": "4P-YrNxTEMFO"
      },
      "execution_count": null,
      "outputs": []
    },
    {
      "cell_type": "code",
      "source": [
        "backend = Aer.get_backend('statevector_simulator')\n",
        "result = backend.run(qc).result()\n",
        "state = result.get_statevector()\n",
        "state.draw('latex') # msb ist , so teleported qubit ist."
      ],
      "metadata": {
        "colab": {
          "base_uri": "https://localhost:8080/",
          "height": 40
        },
        "id": "xhoGaH97Frmm",
        "outputId": "659ddb63-db37-43cd-d1d6-4850b58bab96"
      },
      "execution_count": null,
      "outputs": [
        {
          "output_type": "execute_result",
          "data": {
            "text/plain": [
              "<IPython.core.display.Latex object>"
            ],
            "text/latex": "$$\\frac{\\sqrt{2}}{2} |001\\rangle+\\frac{\\sqrt{2}}{2} |101\\rangle$$"
          },
          "metadata": {},
          "execution_count": 50
        }
      ]
    }
  ]
}